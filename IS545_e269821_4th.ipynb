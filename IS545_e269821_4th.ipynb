{
 "cells": [
  {
   "attachments": {},
   "cell_type": "markdown",
   "metadata": {},
   "source": [
    "### **IS 545 Object Oriented Programming and Data Structures**\n",
    "\n",
    "# Assignment 4\n",
    "\n",
    "Upload your solutions (as a **ipynb** file) to the [odtuclass](https://odtuclass.metu.edu.tr/) web site for the course.\n",
    "\n",
    "Deadline: Check odtuclass Assignment 4 page for the deadline.\n",
    "\n",
    "Besure to use the format of the **Sample Solution** provided for each question because the assignmed is read through an auto grader."
   ]
  },
  {
   "attachments": {},
   "cell_type": "markdown",
   "metadata": {},
   "source": [
    "## Student Info (fill the fields below)\n",
    "\n",
    "Name: Esra Şekerci\n",
    "\n",
    "ID: 2698215"
   ]
  },
  {
   "attachments": {},
   "cell_type": "markdown",
   "metadata": {},
   "source": [
    "## Requirements\n",
    "\n",
    "In this assignment, **you are NOT expected to submit any Python code**. Submit your answers as text in a code block.\n",
    "\n",
    "#### Construct your magic numbers\n",
    "\n",
    "Each student will have a distinct-ordered-sequence of numbers that will be used in each question of this assignment.\n",
    "We will refer these numbers as your **magic numbers**.\n",
    "\n",
    "~~~~Python\n",
    "# for example if your student id is 123456, then you execute the following statement   \n",
    "magic(123456)\n",
    "# and your magic numbers should be \n",
    "[88, 78, 18, 66, 55, 62, 16, 91, 97, 82]\n",
    "# since these numbers vary in different versions of Python, use the numbers generated in your own environment\n",
    "~~~~\n",
    "\n",
    "> The answers will be evaluated with a semi-automated grader. Please try to stick to given format as much as possible.\n"
   ]
  },
  {
   "cell_type": "code",
   "execution_count": 1,
   "metadata": {},
   "outputs": [
    {
     "data": {
      "text/plain": [
       "[20, 30, 46, 85, 66, 79, 82, 98, 15, 80]"
      ]
     },
     "execution_count": 1,
     "metadata": {},
     "output_type": "execute_result"
    }
   ],
   "source": [
    "import random\n",
    "\n",
    "def magic(student_id):\n",
    "    seed = \"IS545 2023-2024 Fall\" + str(student_id)\n",
    "    N = 10\n",
    "    L = []\n",
    "    random.seed(seed)\n",
    "    while(len(L) < N):\n",
    "        m = random.randint(10,99)\n",
    "        if not m in L:\n",
    "            L.append(m)\n",
    "    return L\n",
    "#execute magic(....) here and generate your numbers\n",
    "magic(2698215) # replace 123456 with your student id and execute"
   ]
  },
  {
   "cell_type": "code",
   "execution_count": 2,
   "metadata": {},
   "outputs": [
    {
     "data": {
      "text/plain": [
       "[20, 30, 46, 85, 66, 79, 82, 98, 15, 80]"
      ]
     },
     "execution_count": 2,
     "metadata": {},
     "output_type": "execute_result"
    }
   ],
   "source": [
    "# Write your magic numbers here as list literal\n",
    "[20, 30, 46, 85, 66, 79, 82, 98, 15, 80]"
   ]
  },
  {
   "attachments": {},
   "cell_type": "markdown",
   "metadata": {},
   "source": [
    "## Q1 (30 pts)\n",
    "a) Heapify your magic numbers to construct a **minimum heap** using bottom-up heap construction. \n",
    "Use array-based heap implementation and write the items array after each step.\n",
    "\n",
    "b) Sort the items in the heap by removing minimum item from the heap at each step. Write the heap-array after each removal. \n",
    "\n",
    "N arrays are expected to be written, do not write intermediate steps.\n",
    "\n",
    "**Zero based indexing** will be used in array based heap, i.e. index zero contains the root element, and for any node at index `i`, left and right children are at indices `(2i+1)` and `(2i+2)` respectively.\n",
    "\n",
    "\n",
    "\n",
    "Example: for magic numbers `[12, 78, 21, 11, 90, 57]` the following answer should be submitted\n",
    "~~~~\n",
    "heapify:\n",
    "[12 78 21 11 90 57]\n",
    "[12 11 21 78 90 57]\n",
    "[11 12 21 78 90 57]\n",
    "heap-sort:\n",
    "11 : [12 57 21 78 90 --]\n",
    "12 : [21 57 90 78 -- --]\n",
    "21 : [57 78 90 -- -- --]\n",
    "57 : [78 90 -- -- -- --]\n",
    "78 : [90 -- -- -- -- --]\n",
    "90 : [-- -- -- -- -- --]\n",
    "~~~~"
   ]
  },
  {
   "attachments": {},
   "cell_type": "markdown",
   "metadata": {},
   "source": [
    "ANSWER:\n",
    "~~~~\n",
    "heapify:\n",
    "[20 30 46 85 66 79 82 98 15 80]\n",
    "[20 30 46 15 66 79 82 98 85 80]\n",
    "[20 15 46 30 66 79 82 98 85 80]\n",
    "[15 20 46 30 66 79 82 98 85 80]\n",
    "heap-sort:\n",
    "15 : [20 30 46 80 66 79 82 98 85 --]\n",
    "20 : [30 66 46 80 85 79 82 98 -- --]\n",
    "30 : [46 66 79 80 85 98 82 -- -- --]\n",
    "46 : [66 80 79 82 85 98 -- -- -- --]\n",
    "66 : [79 80 98 82 85 -- -- -- -- --]\n",
    "79 : [80 82 98 85 -- -- -- -- -- --]\n",
    "80 : [82 85 98 -- -- -- -- -- -- --]\n",
    "82 : [85 98 -- -- -- -- -- -- -- --]\n",
    "85 : [98 -- -- -- -- -- -- -- -- --]\n",
    "98 : [-- -- -- -- -- -- -- -- -- --]\n",
    "~~~~\n"
   ]
  },
  {
   "attachments": {},
   "cell_type": "markdown",
   "metadata": {},
   "source": [
    "## Q2.a (20 pts)\n",
    "Insert the numbers to a hash table using **linear probing** based collision handling.\n",
    "\n",
    "Hash function is `h(x) = x mod 19`\n",
    "\n",
    "Write the hash table array after each insertion. Use `--` for empty cells.\n",
    "N arrays are expected to be written.\n",
    "\n",
    "Example: for magic numbers `[12, 78, 21, 11, 90, 57]` the following answer should be submitted\n",
    "~~~~\n",
    "  0  1  2  3  4  5  6  7  8  9 10 11 12 13 14 15 16 17 18\n",
    "[-- -- -- -- -- -- -- -- -- -- -- -- 12 -- -- -- -- -- --]\n",
    "[-- -- 78 -- -- -- -- -- -- -- -- -- 12 -- -- -- -- -- --]\n",
    "[-- -- 78 21 -- -- -- -- -- -- -- -- 12 -- -- -- -- -- --]\n",
    "[-- -- 78 21 -- -- -- -- -- -- -- 11 12 -- -- -- -- -- --]\n",
    "[-- -- 78 21 -- -- -- -- -- -- -- 11 12 -- 90 -- -- -- --]\n",
    "[57 -- 78 21 -- -- -- -- -- -- -- 11 12 -- 90 -- -- -- --]\n",
    "~~~~\n"
   ]
  },
  {
   "attachments": {},
   "cell_type": "markdown",
   "metadata": {},
   "source": [
    "ANSWER:\n",
    "~~~~\n",
    "  0  1  2  3  4  5  6  7  8  9 10 11 12 13 14 15 16 17 18\n",
    "[-- 20 -- -- -- -- -- -- -- -- -- -- -- -- -- -- -- -- --]\n",
    "[-- 20 -- -- -- -- -- -- -- -- -- 30 -- -- -- -- -- -- --]\n",
    "[-- 20 -- -- -- -- -- -- 46 -- -- 30 -- -- -- -- -- -- --]\n",
    "[-- 20 -- -- -- -- -- -- 46 85 -- 30 -- -- -- -- -- -- --]\n",
    "[-- 20 -- -- -- -- -- -- 46 85 66 30 -- -- -- -- -- -- --]\n",
    "[-- 20 -- 79 -- -- -- -- 46 85 66 30 -- -- -- -- -- -- --]\n",
    "[-- 20 -- 79 -- -- 82 -- 46 85 66 30 -- -- -- -- -- -- --]\n",
    "[-- 20 -- 79 98 -- 82 -- 46 85 66 30 -- -- -- -- -- -- --]\n",
    "[-- 20 -- 79 98 -- 82 -- 46 85 66 30 -- -- -- 15 -- -- --]\n",
    "[-- 20 -- 79 98 80 82 -- 46 85 66 30 -- -- -- 15 -- -- --]\n",
    "~~~~"
   ]
  },
  {
   "attachments": {},
   "cell_type": "markdown",
   "metadata": {},
   "source": [
    "## Q2.b (20 pts)\n",
    "Insert the numbers to a hash table using **double-hashing** based collision handling.\n",
    "\n",
    "Hash function is `h(x) = x mod 19`, and the secondary function is `d(x) = 7 – x mod 7`\n",
    "\n",
    "Write the hash table array after each insertion. Use `--` for empty cells.\n",
    "N arrays are expected to be written.\n",
    "\n",
    "Example: for magic numbers `[12, 78, 21, 11, 90, 57]` the following answer should be submitted\n",
    "~~~~\n",
    "  0  1  2  3  4  5  6  7  8  9 10 11 12 13 14 15 16 17 18\n",
    "[-- -- -- -- -- -- -- -- -- -- -- -- 12 -- -- -- -- -- --]\n",
    "[-- -- 78 -- -- -- -- -- -- -- -- -- 12 -- -- -- -- -- --]\n",
    "[-- -- 78 -- -- -- -- -- -- 21 -- -- 12 -- -- -- -- -- --]\n",
    "[-- -- 78 -- -- -- -- -- -- 21 -- 11 12 -- -- -- -- -- --]\n",
    "[-- -- 78 -- -- -- -- -- -- 21 -- 11 12 -- 90 -- -- -- --]\n",
    "[57 -- 78 -- -- -- -- -- -- 21 -- 11 12 -- 90 -- -- -- --]\n",
    "~~~~"
   ]
  },
  {
   "attachments": {},
   "cell_type": "markdown",
   "metadata": {},
   "source": [
    "ANSWER:\n",
    "~~~~\n",
    "  0  1  2  3  4  5  6  7  8  9 10 11 12 13 14 15 16 17 18\n",
    "[-- 20 -- -- -- -- -- -- -- -- -- -- -- -- -- -- -- -- --]\n",
    "[-- 20 -- -- -- -- -- -- -- -- -- 30 -- -- -- -- -- -- --]\n",
    "[-- 20 -- -- -- -- -- -- 46 -- -- 30 -- -- -- -- -- -- --]\n",
    "[-- 20 -- -- -- -- -- -- 46 85 -- 30 -- -- -- -- -- -- --]\n",
    "[-- 20 -- -- -- -- -- -- 46 85 -- 30 -- 66 -- -- -- -- --]\n",
    "[-- 20 -- 79 -- -- -- -- 46 85 -- 30 -- 66 -- -- -- -- --]\n",
    "[-- 20 -- 79 -- -- 82 -- 46 85 -- 30 -- 66 -- -- -- -- --]\n",
    "[-- 20 -- 79 -- -- 82 -- 46 85 98 30 -- 66 -- -- -- -- --]\n",
    "[-- 20 -- 79 -- -- 82 -- 46 85 98 30 -- 66 -- 15 -- -- --]\n",
    "[-- 20 -- 79 80 -- 82 -- 46 85 98 30 -- 66 -- 15 -- -- --]\n",
    "~~~~"
   ]
  },
  {
   "attachments": {},
   "cell_type": "markdown",
   "metadata": {},
   "source": [
    "## Q3 (30 pts)\n",
    "Sort elements in your magic numbers array using each given sorting method. \n",
    "\n",
    "Write the array after each step of the algorithm.\n",
    "\n",
    "Indicate the complexity of the **worst case** running time using **Big-Oh notation**\n",
    "- a) Selection sort \n",
    "- b) Bubble sort \n",
    "\n",
    "At most N arrays are expected to be written, do not write intermediate steps.\n",
    "\n",
    "Example: for magic numbers `[12, 78, 21, 11, 90, 57]` the following lines should be submitted\n",
    "~~~~\n",
    "Selection Sort:\n",
    "[12 78 21 11 90 57]\n",
    "[11 78 21 12 90 57]\n",
    "[11 12 21 78 90 57]\n",
    "[11 12 21 78 90 57]\n",
    "[11 12 21 57 90 78]\n",
    "[11 12 21 57 78 90]\n",
    "Worst case complexity is O(...)\n",
    "\n",
    "Bubble Sort:\n",
    "[12 78 21 11 90 57]\n",
    "[12 21 11 78 57 90]\n",
    "[12 11 21 57 78 90]\n",
    "[11 12 21 57 78 90]\n",
    "[11 12 21 57 78 90]\n",
    "Worst case complexity is O(...)\n",
    "~~~~"
   ]
  },
  {
   "attachments": {},
   "cell_type": "markdown",
   "metadata": {},
   "source": [
    "ANSWER:\n",
    "~~~~\n",
    "Selection Sort:\n",
    "[20 30 46 85 66 79 82 98 15 80]\n",
    "[15 30 46 85 66 79 82 98 20 80]\n",
    "[15 20 46 85 66 79 82 98 30 80]\n",
    "[15 20 30 85 66 79 82 98 46 80]\n",
    "[15 20 30 46 66 79 82 98 85 80]\n",
    "[15 20 30 46 66 79 82 98 85 80]\n",
    "[15 20 30 46 66 79 82 98 85 80]\n",
    "[15 20 30 46 66 79 80 98 85 82]\n",
    "[15 20 30 46 66 79 80 82 85 98]\n",
    "Worst case complexity is O(n^2)\n",
    "\n",
    "Bubble Sort:\n",
    "[20 30 46 85 66 79 82 98 15 80]\n",
    "[20 30 46 66 79 82 85 15 80 98]\n",
    "[20 30 46 66 79 82 15 80 85 98]\n",
    "[20 30 46 66 79 15 80 82 85 98]\n",
    "[20 30 46 66 15 79 80 82 85 98]\n",
    "[20 30 46 15 66 79 80 82 85 98]\n",
    "[20 30 15 46 66 79 80 82 85 98]\n",
    "[20 15 30 46 66 79 80 82 85 98]\n",
    "[15 20 30 46 66 79 80 82 85 98]\n",
    "Worst case complexity is O(n^2)\n",
    "~~~~"
   ]
  }
 ],
 "metadata": {
  "interpreter": {
   "hash": "ad2bdc8ecc057115af97d19610ffacc2b4e99fae6737bb82f5d7fb13d2f2c186"
  },
  "kernelspec": {
   "display_name": "Python 3.8.8 ('base')",
   "language": "python",
   "name": "python3"
  },
  "language_info": {
   "codemirror_mode": {
    "name": "ipython",
    "version": 3
   },
   "file_extension": ".py",
   "mimetype": "text/x-python",
   "name": "python",
   "nbconvert_exporter": "python",
   "pygments_lexer": "ipython3",
   "version": "3.11.7"
  }
 },
 "nbformat": 4,
 "nbformat_minor": 2
}
