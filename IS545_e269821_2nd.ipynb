{
 "cells": [
  {
   "cell_type": "markdown",
   "metadata": {},
   "source": [
    "### **IS 545 Object Oriented Programming and Data Structures**\n",
    "\n",
    "# Assignment 2\n",
    "\n",
    "Upload your solutions (as an **ipynb** file) to the [odtuclass](https://odtuclass.metu.edu.tr/) web site for the course.\n",
    "\n",
    "**Deadline:** As announced in Assignment web page.\n",
    "\n",
    "**Late submissions:** Will incur a -1% penalty per hour after the deadline.\n",
    "\n",
    "You are expected to work **by yourselves**,  <u>NOT in groups</u>. You are also be expected to follow **the academic integrity rules**.\n",
    "\n",
    "## Requirements\n",
    "- You are not allowed to copy code snippets from the internet, these attempts will get **zero points** for the related question.\n",
    "- Make sure you write your code starting from the next line after phrases like `YOUR CODE HERE` or `YOUR ANSWER HERE`\n",
    "- Do not change any code given in the questions other than the area described above\n",
    "- `MAKE SURE THAT WHEN YOU TEST A CELL, YOU EXECUTE **ALL THE CELLS ABOVE IT**`"
   ]
  },
  {
   "cell_type": "markdown",
   "metadata": {},
   "source": [
    "## Student Info (fill the fields below)\n",
    "\n",
    "Name: Esra Şekerci\n",
    "\n",
    "ID: 2698215"
   ]
  },
  {
   "cell_type": "markdown",
   "metadata": {},
   "source": [
    "## Description\n",
    "In this assignment, you will implement an efficient Python array suite. The usage of this array will be very similar to the array in Numpy module. Unlike Numpy arrays, our array will support one dimensional floating point numbers only.\n",
    "\n",
    "Most of the suite will be available to you and you will only fill some missing codes in the classes. DO NOT CHANGE any code other than the regions reserved for the students because grading will be performed using the original version of the codes!\n",
    "\n",
    "There will be four different implementation of array storages in this assignment, one of them is provided to you and you will implement others. When you examine the code, hopefully, you will understand the meaning of the following OOP features better:\n",
    "- Encapsulation\n",
    "- Inheritance\n",
    "- Polymorphism\n",
    "- Reuse\n",
    "\n",
    "You will also implement a computation about the slicing property of the arrays.\n",
    "\n"
   ]
  },
  {
   "cell_type": "markdown",
   "metadata": {},
   "source": [
    "## Remarks\n",
    "- In a real-world application, you should have created a module directory containing a set of **.py** files for this suite of classes\n",
    "- In this assignment, in order to make submissions easier, all classes are stored in a single Jupyter Notebook file"
   ]
  },
  {
   "cell_type": "markdown",
   "metadata": {},
   "source": [
    "### ArrayWrapper Class (do not modify) ###\n",
    "This class wraps the array sources and should not be modified."
   ]
  },
  {
   "cell_type": "code",
   "execution_count": 1,
   "metadata": {},
   "outputs": [],
   "source": [
    "class ArrayWrapper:\n",
    "    \"\"\"\n",
    "    Wraps an array-source and provides convenience methods for\n",
    "    representation, string conversion, arithmetic operators, \n",
    "    indexing and slicing\n",
    "    \"\"\"\n",
    "\n",
    "    def __init__(self, source):\n",
    "        if not isinstance(source, ArraySource):\n",
    "            raise ValueError(\"ArraySource instance expected\")\n",
    "        self._source = source\n",
    "                \n",
    "    @staticmethod\n",
    "    def __create_source(cls, count):\n",
    "        \"\"\"Creates a new instance of ValueArraySource \n",
    "        with the type given in the cls parameter\n",
    "        Size of the array-source is set to count\"\"\"\n",
    "        if count<0:\n",
    "            raise ValueError(\"Array length cannot be negative\")\n",
    "        src = super(ArraySource, cls).__new__(cls, count)\n",
    "        src.__init__(count)\n",
    "        return src\n",
    "\n",
    "    def __neg__(self):\n",
    "        return self * (-1)\n",
    "\n",
    "    def __iadd__(self, other):\n",
    "        if isinstance(other, ArrayWrapper):\n",
    "            #if the argument is another float array, add individual items \n",
    "            count = len(other)\n",
    "            if len(self) != count : \n",
    "                raise ValueError(\"Length of the arrays do not match\")\n",
    "            self.__add_array(other)\n",
    "            return self\n",
    "        else:\n",
    "            self.__add_scalar(other)\n",
    "            return self\n",
    "\n",
    "    def __add__(self, other):\n",
    "        cpy = self.copy()\n",
    "        cpy += other\n",
    "        return cpy\n",
    "\n",
    "    def __radd__(self, other):\n",
    "        return self + other\n",
    "\n",
    "    def __imul__(self, other):\n",
    "        if isinstance(other, ArrayWrapper):\n",
    "            #if the argument is another float array, multiply individual items \n",
    "            count = len(other)\n",
    "            if len(self) != count : \n",
    "                raise ValueError(\"Length of the arrays do not match\")\n",
    "            self.__mul_array(other)\n",
    "            return self\n",
    "        else:\n",
    "            self.__mul_scalar(other)\n",
    "            return self\n",
    "\n",
    "    def __mul__(self, other):\n",
    "        cpy = self.copy()\n",
    "        cpy *= other\n",
    "        return cpy\n",
    "\n",
    "    def __rmul__(self, other):\n",
    "        return self * other\n",
    "\n",
    "    def __sub__(self, other):\n",
    "        return self + (-other)\n",
    "\n",
    "    def __isub__(self, other):\n",
    "        self += (-other)\n",
    "        return self\n",
    "\n",
    "    def __rsub__(self, other):\n",
    "        return -self + other\n",
    "\n",
    "    def __truediv__(self, other):\n",
    "        cpy = self.copy()\n",
    "        cpy /= other\n",
    "        return cpy\n",
    "\n",
    "    def __itruediv__(self, other):\n",
    "        if isinstance(other, ArrayWrapper):\n",
    "            #if the argument is another float array, multiply individual items \n",
    "            count = len(other)\n",
    "            if len(self) != count : \n",
    "                raise ValueError(\"Length of the arrays do not match\")\n",
    "            self.__div_array(other, False)\n",
    "            return self\n",
    "        else:\n",
    "            self.__div_scalar(other, False)\n",
    "            return self\n",
    "\n",
    "    def __rtruediv__(self, other):\n",
    "        cpy = self.copy()\n",
    "        if isinstance(other, ArrayWrapper):\n",
    "            #if the argument is another float array, multiply individual items \n",
    "            count = len(other)\n",
    "            if len(cpy) != count : \n",
    "                raise ValueError(\"Length of the arrays do not match\")\n",
    "            cpy.__div_array(other, True)\n",
    "        else:\n",
    "            cpy.__div_scalar(other, True)\n",
    "        return cpy\n",
    "\n",
    "    def __repr__(self):\n",
    "        s = \"array([\"\n",
    "        for i in range(len(self)):\n",
    "            f = self[i]\n",
    "            if i>0 : s += ', '\n",
    "            s += str(f)\n",
    "        return s + '])'\n",
    "\n",
    "    def __str__(self):\n",
    "        s = \"[\"\n",
    "        for i in range(len(self)):\n",
    "            if i>0 : s += ' '\n",
    "            f = self[i]\n",
    "            s += str(f)\n",
    "        return s + \"]\"\n",
    "\n",
    "    def __eq__(self, other):\n",
    "        count = len(self)\n",
    "        if count != len(other): return False\n",
    "        for i in range(count):\n",
    "            if self[i] != other[i]: return False\n",
    "        return True\n",
    "\n",
    "    def __pow__(self, exp):\n",
    "        ret = self._create_new(len(self))\n",
    "        for i in range(len(ret)):\n",
    "            ret[i] = self[i] ** exp\n",
    "        return ret\n",
    "\n",
    "    def __len__(self):\n",
    "        return self._source.get_length()\n",
    "\n",
    "    def __getitem__(self, key):\n",
    "        if type(key) == slice:\n",
    "            refarr = ReferenceArraySource(self._source, key)\n",
    "            return ArrayWrapper(refarr)\n",
    "        else:\n",
    "            return self._source.get_value(key)\n",
    "\n",
    "    def __setitem__(self, key, value):\n",
    "        self._source.set_value(key, value)\n",
    "\n",
    "    def copy(self):\n",
    "        cpy = self._create_new(len(self))\n",
    "        for i in range(len(self)):\n",
    "            cpy._source.set_value(i, self._source.get_value(i))\n",
    "        return cpy\n",
    "\n",
    "    def _create_new(self, count):\n",
    "        src = self._source\n",
    "        if type(src) == ReferenceArraySource:\n",
    "            src = src.get_ref_source()\n",
    "        newsrc = ArrayWrapper.__create_source(type(src), count)\n",
    "        return ArrayWrapper(newsrc)\n",
    "\n",
    "    def _convert_value(self, value):\n",
    "        return value\n",
    "\n",
    "    def __add_scalar(self, scalar):\n",
    "        val = self._convert_value(scalar)\n",
    "        for i in range(len(self)):\n",
    "            self[i] += val\n",
    "\n",
    "    def __add_array(self, array):\n",
    "        for i in range(len(self)):\n",
    "            self[i] += self._convert_value(array[i])\n",
    "\n",
    "    def __mul_scalar(self, scalar):\n",
    "        val = self._convert_value(scalar)\n",
    "        for i in range(len(self)):\n",
    "            self[i] *= val\n",
    "\n",
    "    def __mul_array(self, array):\n",
    "        for i in range(len(self)):\n",
    "            self[i] *= self._convert_value(array[i])\n",
    "\n",
    "    def __div_scalar(self, scalar, invert):\n",
    "        val = self._convert_value(scalar)\n",
    "        if invert:\n",
    "            for i in range(len(self)):\n",
    "                self[i] = val / self[i]\n",
    "        else:\n",
    "            for i in range(len(self)):\n",
    "                self[i] /= val\n",
    "\n",
    "    def __div_array(self, array, invert):\n",
    "        if invert:\n",
    "            for i in range(len(self)):\n",
    "                self[i] = self._convert_value(array[i]) / self[i]\n",
    "        else:\n",
    "            for i in range(len(self)):\n",
    "                self[i] /= self._convert_value(array[i])\n"
   ]
  },
  {
   "cell_type": "markdown",
   "metadata": {},
   "source": [
    "### ArraySource Class (do not modify)\n",
    "This is the abstract base class of all one dimensional float array sources. Subclasses should implement the abstract methods. ArrayWrapper class wraps instances of this object and provides numpy-like array operations. Read the documentation given in the abstract method definitions below."
   ]
  },
  {
   "cell_type": "code",
   "execution_count": 2,
   "metadata": {},
   "outputs": [],
   "source": [
    "from abc import ABC, abstractmethod\n",
    "\n",
    "class ArraySource(ABC):\n",
    "    \"\"\"\n",
    "    Base class of all array sources\n",
    "    \"\"\"\n",
    "\n",
    "    def __check_index_valid(self, index):\n",
    "        if type(index) != int:\n",
    "            raise IndexError(\"Index should be integer\")\n",
    "        count = self.get_length()\n",
    "        if(index < 0 or index >= count):\n",
    "            raise IndexError(\"Index out of range\")\n",
    "\n",
    "    def get_value(self, index):\n",
    "        self.__check_index_valid(index)\n",
    "        return self._get_value(index)\n",
    "\n",
    "    def set_value(self, index, value):\n",
    "        self.__check_index_valid(index)\n",
    "        return self._set_value(index, float(value))\n",
    "\n",
    "    @abstractmethod\n",
    "    def get_length(self):\n",
    "        \"\"\"Returns number of items in the array\"\"\"\n",
    "        pass\n",
    "\n",
    "    @abstractmethod\n",
    "    def _get_value(self, index):\n",
    "        \"\"\"\n",
    "        Returns the float value at index\n",
    "        The index value is guaranteed to be in range 0 to length-1\n",
    "        \"\"\"\n",
    "        pass\n",
    "\n",
    "    @abstractmethod\n",
    "    def _set_value(self, index, fvalue):\n",
    "        \"\"\"\n",
    "        Sets the array content at index to the float value given in fvalue\n",
    "        The index value is guaranteed to be in range 0 to length-1\n",
    "        \"\"\"\n",
    "        pass\n"
   ]
  },
  {
   "cell_type": "markdown",
   "metadata": {},
   "source": [
    "### ValueArraySource (do not modify)\n",
    "This is the abstract base class of all array-source implementations that does a memory allocation for the array. Descendants should override abstract methods of this class, read the method documentation below for these methods."
   ]
  },
  {
   "cell_type": "code",
   "execution_count": 3,
   "metadata": {},
   "outputs": [],
   "source": [
    "class ValueArraySource(ArraySource):\n",
    "\n",
    "    def __init__(self, object):\n",
    "        if type(object) == int:\n",
    "            # if object is int, it is considered as the length of the array\n",
    "            count = object\n",
    "            self._count = count\n",
    "            self._allocate(count)\n",
    "        else:\n",
    "            # otherwise object is iterable like range(..) or any sequence\n",
    "            count = len(object)       \n",
    "            self._count = count\n",
    "            self._allocate(count)\n",
    "            for i in range(count):            \n",
    "                self.set_value(i, object[i])\n",
    "\n",
    "    def get_length(self):\n",
    "        \"\"\"Returns length (size) of the underlying array storage\"\"\"\n",
    "        return self._count\n",
    "\n",
    "    @abstractmethod\n",
    "    def _allocate(self, count):\n",
    "        \"\"\"Allocates memory for the underlying array storage\n",
    "        and stores this object in a field\"\"\"\n",
    "        pass\n"
   ]
  },
  {
   "cell_type": "markdown",
   "metadata": {},
   "source": [
    "### AArraySource Class (do not modify) ##\n",
    "A concrete implementation of ValueArraySource that uses **array** module provided for low level array operations in python. Use this class as an example for further implementations in the corresponding questions"
   ]
  },
  {
   "cell_type": "code",
   "execution_count": 4,
   "metadata": {},
   "outputs": [],
   "source": [
    "import array\n",
    "\n",
    "class AArraySource(ValueArraySource):\n",
    "\n",
    "    def _allocate(self, count):\n",
    "        self._aarray = array.array('f', [0]*count)\n",
    "\n",
    "    def _get_value(self, index):\n",
    "        return self._aarray[index]\n",
    "\n",
    "    def _set_value(self, index, fvalue):\n",
    "        self._aarray[index] = fvalue\n"
   ]
  },
  {
   "cell_type": "markdown",
   "metadata": {},
   "source": [
    "### ReferenceArraySource (do not modify) ##\n",
    "Important note: this class uses a function called **compute_indices** which is not implemented properly. You will complete this implementation in the related question.\n",
    "\n",
    "This class is an implementation of ArraySource but it does not do any memory allocation. It takes an existing ValueArraySource as reference and gets the data from this reference.\n",
    "\n",
    "This class is used for slicing operations. Just as in numpy arrays, this structure is a view of an existing array. When you do changes on this reference, the referenced array is also changed"
   ]
  },
  {
   "cell_type": "code",
   "execution_count": 5,
   "metadata": {},
   "outputs": [],
   "source": [
    "class ReferenceArraySource(ArraySource):\n",
    "\n",
    "    def __init__(self, ref_source, slc):\n",
    "        if not isinstance(ref_source, ArraySource):\n",
    "            raise ValueError(\"ref_source should be a ArraySource\")\n",
    "        if type(slc) != slice:\n",
    "            raise ValueError(\"slc must be of type slice\")\n",
    "        if(slc.step == 0): \n",
    "            raise ValueError(\"slice step cannot be zero\")\n",
    "        oldcount = ref_source.get_length()\n",
    "        if type(ref_source) == ReferenceArraySource:\n",
    "            self._ref_source = ref_source._ref_source\n",
    "            oldstart = ref_source._start\n",
    "            oldinc = ref_source._increment\n",
    "        else:\n",
    "            self._ref_source = ref_source\n",
    "            oldstart = 0\n",
    "            oldinc = 1\n",
    "        indices = compute_indices(slc, oldstart, oldinc, oldcount)\n",
    "        self._start, self._increment, self._count = indices     \n",
    "\n",
    "    def get_ref_source(self):\n",
    "        \"\"\"Getter for the referenced array source\"\"\"\n",
    "        return self._ref_source\n",
    "\n",
    "    def get_length(self):\n",
    "        return self._count\n",
    "\n",
    "    def _get_value(self, index):\n",
    "        i = self._start + index * self._increment\n",
    "        return self._ref_source._get_value(i)\n",
    "\n",
    "    def _set_value(self, index, fvalue):\n",
    "        i = self._start + index * self._increment\n",
    "        self._ref_source._set_value(i, fvalue)\n",
    "\n"
   ]
  },
  {
   "cell_type": "markdown",
   "metadata": {},
   "source": [
    "### Utility class fa (do not modify) ##\n",
    "This class provides convenience methods for array operations. Just as you use numpy module with **np**, you will use our arrays suite using **fa**. This module has methods to create arrays and apply some math functions on the arrays (like square-root, sin, abs etc.)"
   ]
  },
  {
   "cell_type": "code",
   "execution_count": 6,
   "metadata": {},
   "outputs": [],
   "source": [
    "import math\n",
    "\n",
    "class fa:\n",
    "    \n",
    "    @staticmethod\n",
    "    def a_array(object):\n",
    "        return ArrayWrapper(AArraySource(object))\n",
    "\n",
    "    @staticmethod\n",
    "    def c_array(object):\n",
    "        return ArrayWrapper(CArraySource(object))\n",
    "\n",
    "    @staticmethod\n",
    "    def l_array(object):\n",
    "        return ArrayWrapper(LArraySource(object))\n",
    "\n",
    "    @staticmethod\n",
    "    def d_array(object):\n",
    "        return ArrayWrapper(DArraySource(object))\n",
    "\n",
    "    @staticmethod\n",
    "    def _apply_all(arr, func):\n",
    "        if not isinstance(arr, ArrayWrapper):\n",
    "            raise ValueError(\"ArrayBase instance is expected\")\n",
    "        cpy = arr.copy()\n",
    "        for i in range(len(arr)):\n",
    "            cpy[i] = func(arr[i])\n",
    "        return cpy\n",
    "\n",
    "    @staticmethod\n",
    "    def abs(arr):\n",
    "        return fa._apply_all(arr, __builtin__.abs)\n",
    "\n",
    "    @staticmethod\n",
    "    def sin(arr):\n",
    "        return fa._apply_all(arr, math.sin)\n",
    "\n",
    "    @staticmethod\n",
    "    def sqrt(arr):\n",
    "        return fa._apply_all(arr, math.sqrt)\n"
   ]
  },
  {
   "cell_type": "markdown",
   "metadata": {},
   "source": [
    "### Usage of our arrays ##\n",
    "In the following cells you can see examples about the usage of the classes defined upto now"
   ]
  },
  {
   "cell_type": "code",
   "execution_count": 7,
   "metadata": {},
   "outputs": [
    {
     "data": {
      "text/plain": [
       "array([0.0, 0.0, 0.0, 0.0, 0.0])"
      ]
     },
     "execution_count": 7,
     "metadata": {},
     "output_type": "execute_result"
    }
   ],
   "source": [
    "# the following code creates an array based AArraySource with zeros\n",
    "ArrayWrapper(AArraySource(5))"
   ]
  },
  {
   "cell_type": "code",
   "execution_count": 8,
   "metadata": {},
   "outputs": [
    {
     "data": {
      "text/plain": [
       "array([0.0, 0.0, 0.0, 0.0, 0.0])"
      ]
     },
     "execution_count": 8,
     "metadata": {},
     "output_type": "execute_result"
    }
   ],
   "source": [
    "# shorthand usage to do the same thing above with fa utility class\n",
    "fa.a_array(5)"
   ]
  },
  {
   "cell_type": "code",
   "execution_count": 9,
   "metadata": {},
   "outputs": [
    {
     "data": {
      "text/plain": [
       "array([0.0, 1.0, 2.0, 3.0, 4.0])"
      ]
     },
     "execution_count": 9,
     "metadata": {},
     "output_type": "execute_result"
    }
   ],
   "source": [
    "# you can use iterators or sequences to generate arrays as well\n",
    "fa.a_array(range(5)) # same as ArrayWrapper(AArraySource(range(5)))"
   ]
  },
  {
   "cell_type": "code",
   "execution_count": 10,
   "metadata": {},
   "outputs": [
    {
     "data": {
      "text/plain": [
       "array([5.0, 4.0, 3.0])"
      ]
     },
     "execution_count": 10,
     "metadata": {},
     "output_type": "execute_result"
    }
   ],
   "source": [
    "# usage with sequences\n",
    "fa.a_array([5,4,3])"
   ]
  },
  {
   "cell_type": "code",
   "execution_count": 11,
   "metadata": {},
   "outputs": [
    {
     "data": {
      "text/plain": [
       "array([10.0, 15.0, 20.0, 25.0, 30.0])"
      ]
     },
     "execution_count": 11,
     "metadata": {},
     "output_type": "execute_result"
    }
   ],
   "source": [
    "# arithmetic operations on the arrays (like numpy)\n",
    "fa.a_array(range(5)) * 5 + 10"
   ]
  },
  {
   "cell_type": "code",
   "execution_count": 12,
   "metadata": {},
   "outputs": [
    {
     "data": {
      "text/plain": [
       "array([81.0, 72.0, 63.0])"
      ]
     },
     "execution_count": 12,
     "metadata": {},
     "output_type": "execute_result"
    }
   ],
   "source": [
    "fa.a_array([1,2,3]) + fa.a_array([80,70,60])"
   ]
  },
  {
   "cell_type": "markdown",
   "metadata": {},
   "source": [
    "### Question 1 (20 pts)\n",
    "Complete the following code to implement a ValueArraySource that uses a list object internally. \n",
    "\n",
    "Note that this is a very simple question and you are expected to write **a single statement** to each cell. "
   ]
  },
  {
   "cell_type": "code",
   "execution_count": 13,
   "metadata": {},
   "outputs": [],
   "source": [
    "class LArraySource(ValueArraySource):\n",
    "\n",
    "    def _allocate(self, count):\n",
    "        # ============ YOUR CODE HERE ============\n",
    "        self._list = [0.0] * count # replace to create a list containing count times zeros\n",
    "        # ========================================\n",
    "\n",
    "    def _get_value(self, index):\n",
    "        # ============ YOUR CODE HERE ============\n",
    "        return self._list[index] # retrieve the value at the specified index from the list\n",
    "        # ========================================\n",
    "\n",
    "    def _set_value(self, index, fvalue):\n",
    "        # ============ YOUR CODE HERE ============\n",
    "        self._list[index] = fvalue  # set the value at the specified index in the list\n",
    "        # ========================================"
   ]
  },
  {
   "cell_type": "code",
   "execution_count": 14,
   "metadata": {},
   "outputs": [
    {
     "data": {
      "text/plain": [
       "array([0.0, 0.0, 0.0, 0.0, 0.0])"
      ]
     },
     "execution_count": 14,
     "metadata": {},
     "output_type": "execute_result"
    }
   ],
   "source": [
    "# you can test your code using this code\n",
    "ArrayWrapper(LArraySource(5)) # this should generate an array with zeros"
   ]
  },
  {
   "cell_type": "code",
   "execution_count": 15,
   "metadata": {},
   "outputs": [
    {
     "data": {
      "text/plain": [
       "array([0.0, 0.0, 0.0, 0.0, 0.0])"
      ]
     },
     "execution_count": 15,
     "metadata": {},
     "output_type": "execute_result"
    }
   ],
   "source": [
    "# short way to do the same\n",
    "fa.l_array(5)"
   ]
  },
  {
   "cell_type": "code",
   "execution_count": 16,
   "metadata": {},
   "outputs": [
    {
     "data": {
      "text/plain": [
       "array([0.0, 1.0, 2.0, 3.0, 4.0])"
      ]
     },
     "execution_count": 16,
     "metadata": {},
     "output_type": "execute_result"
    }
   ],
   "source": [
    "fa.l_array(range(5)) # should generate array([0.0, 1.0, 2.0, 3.0, 4.0])"
   ]
  },
  {
   "cell_type": "markdown",
   "metadata": {},
   "source": [
    "### Question 2 (20 pts) ##\n",
    "Complete the following code to implement a ValueArraySource that uses a ctypes array internally.\n",
    "\n",
    "Note that this is a very simple question and you are expected to write **a single statement** to each cell. "
   ]
  },
  {
   "cell_type": "code",
   "execution_count": 17,
   "metadata": {},
   "outputs": [],
   "source": [
    "from ctypes import c_double\n",
    "\n",
    "class CArraySource(ValueArraySource):\n",
    "\n",
    "    def _allocate(self, count):\n",
    "        self._carray = (c_double * count)() # allocate a ctypes array of c_double with the specified count\n",
    "\n",
    "    def _get_value(self, index):\n",
    "        # ============ YOUR CODE HERE ============\n",
    "        return self._carray[index] # retrieve the value at the specified index from the ctypes array\n",
    "        # ========================================\n",
    " \n",
    "    def _set_value(self, index, fvalue):\n",
    "        # ============ YOUR CODE HERE ============\n",
    "        self._carray[index] = c_double(fvalue) # set the value at the specified index in the ctypes array\n",
    "        # ========================================"
   ]
  },
  {
   "cell_type": "code",
   "execution_count": 18,
   "metadata": {},
   "outputs": [
    {
     "data": {
      "text/plain": [
       "(array([0.0, 1.0, 2.0, 3.0]), array([0.0, 0.0, 0.0]))"
      ]
     },
     "execution_count": 18,
     "metadata": {},
     "output_type": "execute_result"
    }
   ],
   "source": [
    "# test your code\n",
    "ArrayWrapper(CArraySource(range(4))), fa.c_array(3)\n",
    "# (array([0.0, 1.0, 2.0, 3.0]), array([0.0, 0.0, 0.0]))"
   ]
  },
  {
   "cell_type": "markdown",
   "metadata": {},
   "source": [
    "### Question 3 (30 pts) ##\n",
    "Complete the following code to implement a ValueArraySource that uses a dictionary internally.\n",
    "\n",
    "However, this time you will assume that the underlying array is sparse, i.e. most of the cells will be zero. The underlying dictionary will hold only the non-zero values internally. For example, if you have an array with length 1000 and if all the values are 0.0, the underlying dictionary will be empty. If you set a cell to a nonzero value, only this value should exist in the dictionary. And when you set some value to zero at some index, this item should be removed from the dictionary.\n",
    "\n"
   ]
  },
  {
   "cell_type": "code",
   "execution_count": 19,
   "metadata": {},
   "outputs": [],
   "source": [
    "class DArraySource(ValueArraySource):\n",
    "\n",
    "    def _allocate(self, count):\n",
    "        self._dict = {} #initially dictionary is empty\n",
    "\n",
    "    def _get_value(self, index):\n",
    "        # if index exists in the dicionary as the key\n",
    "        # return the value at that key\n",
    "        # else return 0.0\n",
    "        # ============ YOUR CODE HERE ============        \n",
    "        return self._dict.get(index, 0.0)\n",
    "        # ========================================\n",
    "\n",
    "    def _set_value(self, index, fvalue):\n",
    "        # if fvalue is 0.0 remove corresponding item from the dictionary\n",
    "        # else add that key-value pair to the dictionary\n",
    "        # ============ YOUR CODE HERE ============\n",
    "        if fvalue == 0.0:\n",
    "            self._dict.pop(index, None)\n",
    "        else:\n",
    "            self._dict[index] = fvalue\n",
    "        # ========================================"
   ]
  },
  {
   "cell_type": "code",
   "execution_count": 20,
   "metadata": {},
   "outputs": [
    {
     "data": {
      "text/plain": [
       "(array([0.0, 0.0, 0.0, 0.0]), array([0.0, 1.0, 2.0]))"
      ]
     },
     "execution_count": 20,
     "metadata": {},
     "output_type": "execute_result"
    }
   ],
   "source": [
    "# test your code\n",
    "ArrayWrapper(DArraySource(4)), fa.d_array(range(3))\n",
    "# (array([0.0, 0.0, 0.0, 0.0]), array([0.0, 1.0, 2.0]))"
   ]
  },
  {
   "cell_type": "code",
   "execution_count": 21,
   "metadata": {},
   "outputs": [
    {
     "data": {
      "text/plain": [
       "{}"
      ]
     },
     "execution_count": 21,
     "metadata": {},
     "output_type": "execute_result"
    }
   ],
   "source": [
    "fa.d_array(5)._source._dict #this should return empty dictionary"
   ]
  },
  {
   "cell_type": "code",
   "execution_count": 22,
   "metadata": {},
   "outputs": [
    {
     "data": {
      "text/plain": [
       "{1: 1.0, 2: 2.0}"
      ]
     },
     "execution_count": 22,
     "metadata": {},
     "output_type": "execute_result"
    }
   ],
   "source": [
    "fa.d_array(range(3))._source._dict #this should return {1: 1.0, 2: 2.0}"
   ]
  },
  {
   "cell_type": "code",
   "execution_count": 23,
   "metadata": {},
   "outputs": [
    {
     "name": "stdout",
     "output_type": "stream",
     "text": [
      "{}\n",
      "{2: 42.0}\n",
      "{2: 42.0, 4: 7.0}\n",
      "{4: 7.0}\n",
      "{4: 7.0, 1: 99.0}\n"
     ]
    }
   ],
   "source": [
    "# you should also test inserting/removing zero and non-zero items by yourselves\n",
    "\n",
    "# create an instance of DArraySource\n",
    "arr_test = fa.d_array(5)\n",
    "\n",
    "# initially, the underlying dictionary should be empty\n",
    "print(arr_test._source._dict)\n",
    "\n",
    "# set a cell to a non-zero value\n",
    "arr_test[2] = 42.0\n",
    "print(arr_test._source._dict)\n",
    "\n",
    "# set another cell to non-zero value\n",
    "arr_test[4] = 7.0\n",
    "print(arr_test._source._dict)\n",
    "\n",
    "# set a cell to zero\n",
    "arr_test[2] = 0.0\n",
    "print(arr_test._source._dict)\n",
    "\n",
    "# set a cell to a non-zero value again\n",
    "arr_test[1] = 99.0\n",
    "print(arr_test._source._dict)"
   ]
  },
  {
   "cell_type": "markdown",
   "metadata": {},
   "source": [
    "### Question 4 (30 pts) ##\n",
    "Now, you will implement the slicing capability for our array. For extra details, you should see the ReferenceArraySource implementation.\n",
    "\n",
    "When an array is sliced, a slice object is created by the python engine and it is available in the constructor of this implementation. \n",
    "\n",
    "ReferenceArraySource is a view of the referenced array, it does not do any extra memory allocation, it will just access the referenced array. Which means, when you change an item in the view, the referenced object will also change. This behavior is same as the numpy module arrays.\n",
    "\n",
    "ReferenceArraySource has a ref_source parameter in its constructor. Behavior depends on the type of this object:\n",
    "\n",
    "If referenced object is a ValueArraySource, old (start,increment,count) parameters will span the whole referenced array, i.e. it will be (0,1,referenced-array-length)\n",
    "\n",
    "On the other hand, if we slice a previously sliced array, this time the referenced object will be a ReferenceArraySource instance. In this case, old (start,increment,count) parameters will be the ones stored in the referenced object.\n",
    "\n",
    "You will implement the code in the compute_indices function below. This function will compute new (start,increment,count) values based on the old values and the slice object. These new values will be stored in the ReferenceArraySource instance.\n",
    "\n",
    "For example if your actual array is `arr = [0,1,2,3,..11]`, and if it is sliced as `sarr = arr[3:10:2]`, the resulting view will be `[3,5,7,9]`. In this case, in the compute_indices function slc will be `slice(start=3,stop=10,step=2)` and old (start,step,count) will be (0,1,12), and you should compute new (start,step,count) as (3,2,4). Then, if you re-slice new array as `sarr[1:3]`, slc will be `slice(start=1,stop=3,step=None)` and the new view will be `[5,7]`, old and new tuple will be (3,2,4) and (5,2,2) respectively. In other words:\n",
    "\n",
    "|Statement|||||||||||||old values|compute_index returns|\n",
    "|-|-|-|-|-|-|-|-|-|-|-|-|-|-|-|\n",
    "|arr = list(range(12))|0|1|2|3|4|5|6|7|8|9|10|11||\n",
    "|sarr = arr[3:10:2]||||X||X||X||X|||(0,1,12)|(3,2,4)|\n",
    "|sarr[1:3]||||||Y||Y|||||(3,2,4)|(5,2,2)|\n",
    "\n",
    "``` python\n",
    "compute_index(slc = 3:10:2, oldstart = 0, oldincr = 1, oldcount = 12) should return (3, 2, 4)\n",
    "compute_index(slc = 1:3, oldstart = 3, oldincr = 2, oldcount = 4) should return (5, 2, 2)\n",
    "```\n",
    "\n",
    "Hint: In order to test your code, you can do the same slicing with a list object and the results of slicing and nested slicings should return exactly the same sequence.\n",
    "\n",
    "Inputs:\n",
    "- slc : the slice object\n",
    "- oldstart,oldinc,oldcount : old parameters\n",
    "\n",
    "Output:\n",
    "- tuple of (newstart,newinc,newcount)\n",
    "\n",
    "\n"
   ]
  },
  {
   "cell_type": "code",
   "execution_count": 24,
   "metadata": {},
   "outputs": [],
   "source": [
    "def compute_indices(slc, oldstart, oldinc, oldcount):\n",
    "    \"\"\"Computes and returns indices for the new\"\"\"\n",
    "    newstart = oldstart\n",
    "    newinc = oldinc\n",
    "    newcount = oldcount\n",
    "    # ============ YOUR CODE HERE ============\n",
    "    # if slc.start is not None, update newstart accordingly\n",
    "    start = slc.start if slc.start is not None else 0\n",
    "    newstart = oldstart + start * oldinc\n",
    "\n",
    "    # if slc.stop is not None, update newcount and newinc accordingly\n",
    "    stop = slc.stop if slc.stop is not None else oldcount\n",
    "    step = slc.step if slc.step is not None else 1\n",
    "    newinc = oldinc * step\n",
    "    newcount = min((stop - start - 1) // step + 1, oldcount - start)\n",
    "    # ========================================\n",
    "    return newstart, newinc, newcount"
   ]
  },
  {
   "cell_type": "code",
   "execution_count": 25,
   "metadata": {},
   "outputs": [
    {
     "data": {
      "text/plain": [
       "array([0.0, 1.0, 2.0, 3.0, 4.0, 5.0, 6.0, 7.0, 8.0, 9.0, 10.0, 11.0])"
      ]
     },
     "execution_count": 25,
     "metadata": {},
     "output_type": "execute_result"
    }
   ],
   "source": [
    "# test your code\n",
    "arr = fa.a_array(range(12))\n",
    "arr\n",
    "# array([0.0, 1.0, 2.0, 3.0, 4.0, 5.0, 6.0, 7.0, 8.0, 9.0, 10.0, 11.0])"
   ]
  },
  {
   "cell_type": "code",
   "execution_count": 26,
   "metadata": {},
   "outputs": [
    {
     "data": {
      "text/plain": [
       "array([3.0, 5.0, 7.0, 9.0])"
      ]
     },
     "execution_count": 26,
     "metadata": {},
     "output_type": "execute_result"
    }
   ],
   "source": [
    "sarr = arr[3:10:2]\n",
    "sarr\n",
    "# array([3.0, 5.0, 7.0, 9.0])"
   ]
  },
  {
   "cell_type": "code",
   "execution_count": 27,
   "metadata": {},
   "outputs": [
    {
     "data": {
      "text/plain": [
       "array([5.0, 7.0])"
      ]
     },
     "execution_count": 27,
     "metadata": {},
     "output_type": "execute_result"
    }
   ],
   "source": [
    "sarr[1:3]\n",
    "#array([5.0, 7.0])"
   ]
  },
  {
   "cell_type": "code",
   "execution_count": 28,
   "metadata": {},
   "outputs": [
    {
     "name": "stdout",
     "output_type": "stream",
     "text": [
      "[0, 1, 2, 3, 4, 5, 6, 7, 8, 9, 10, 11]\n",
      "[3, 5, 7, 9]\n",
      "[5, 7]\n"
     ]
    }
   ],
   "source": [
    "#let's do similar things with built-in list object\n",
    "lst = list(range(0,12))\n",
    "print(lst)\n",
    "slst= lst[3:10:2]\n",
    "print(slst)\n",
    "print(slst[1:3])"
   ]
  },
  {
   "cell_type": "markdown",
   "metadata": {},
   "source": [
    "## Usage of this array suite with other libraries #\n",
    "You can use these arrays with modules like matplotlib as well, just as the way  you do with numpy arrays.\n"
   ]
  },
  {
   "cell_type": "code",
   "execution_count": 29,
   "metadata": {},
   "outputs": [
    {
     "data": {
      "text/plain": [
       "[<matplotlib.lines.Line2D at 0x29f6746b7d0>]"
      ]
     },
     "execution_count": 29,
     "metadata": {},
     "output_type": "execute_result"
    },
    {
     "data": {
      "image/png": "[encoded data removed]",
      "text/plain": [
       "<Figure size 640x480 with 1 Axes>"
      ]
     },
     "metadata": {},
     "output_type": "display_data"
    }
   ],
   "source": [
    "%matplotlib inline\n",
    "import matplotlib.pyplot as plt\n",
    "x = fa.a_array(range(-50,50))\n",
    "x *= 0.1\n",
    "plt.plot(x, (3-x)*(x+2) + 2 * fa.sin(5*x))"
   ]
  }
 ],
 "metadata": {
  "kernelspec": {
   "display_name": "Python 3.10.6 64-bit",
   "language": "python",
   "name": "python3"
  },
  "language_info": {
   "codemirror_mode": {
    "name": "ipython",
    "version": 3
   },
   "file_extension": ".py",
   "mimetype": "text/x-python",
   "name": "python",
   "nbconvert_exporter": "python",
   "pygments_lexer": "ipython3",
   "version": "3.11.6"
  },
  "vscode": {
   "interpreter": {
    "hash": "6a48581e28d45680af6ef7ae6138d429f6e20aecedaea2d4b58ab16969b43f7e"
   }
  }
 },
 "nbformat": 4,
 "nbformat_minor": 2
}
