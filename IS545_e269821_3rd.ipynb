{
 "cells": [
  {
   "attachments": {},
   "cell_type": "markdown",
   "metadata": {},
   "source": [
    "### **IS 545 Object Oriented Programming and Data Structures**\n",
    "\n",
    "# Assignment 3\n",
    "\n",
    "Upload your solutions (as a **ipynb** file) to the [odtuclass](https://odtuclass.metu.edu.tr/) web site for the course.\n",
    "\n",
    "**As Always**\n",
    "\n",
    "- Do not import any external library unless otherwise specified!\n",
    "- Please comment out or delete \"raise NotImplementedError()\" statements before you implement the related code block."
   ]
  },
  {
   "attachments": {},
   "cell_type": "markdown",
   "metadata": {},
   "source": [
    "## Description\n",
    "In this assignment, you will evaluate arithmetic expressions given as String. A utility function is provided for you to convert a string a sequence of tokens. Therefore you will work with parsed tokens only, not the input string.\n",
    "\n",
    "You will also comment on the analysis of the built-in list class implementation in Python."
   ]
  },
  {
   "attachments": {},
   "cell_type": "markdown",
   "metadata": {},
   "source": [
    "## Student Info (fill the fields below)\n",
    "\n",
    "Name: Esra Şekerci\n",
    "\n",
    "ID: 2698215"
   ]
  },
  {
   "attachments": {},
   "cell_type": "markdown",
   "metadata": {},
   "source": [
    "## parse_expression utility function (do not modify)\n",
    "In this assignment, you will use the following function called **parse_expression** that parses an arithmetic expression. The only input of the function is be a String containing the expression, and output will be a tuple containing operators  \n",
    "~~~~Python\n",
    "['+','-','*','/','(',')']\n",
    "~~~~\n",
    "and numbers as **positive floating point** numbers. \n",
    "\n",
    "**Spaces** are ignored and **scientific notation** is also accepted.\n",
    "\n",
    "For wrong inputs, **ValueError** is raised!"
   ]
  },
  {
   "cell_type": "code",
   "execution_count": 1,
   "metadata": {},
   "outputs": [],
   "source": [
    "import re\n",
    "def parse_expression(s):\n",
    "    pattern = re.compile(r\"\\s*([\\(\\)\\+\\-\\*/]|(\\d+(\\.\\d*)?|\\d*\\.\\d+)([eE][+-]?\\d+)?)\\s*\")\n",
    "    n = len(s)\n",
    "    i = 0\n",
    "    L = []\n",
    "    while i < n:\n",
    "        m = pattern.match(s, i)\n",
    "        if m is None:\n",
    "            raise ValueError()\n",
    "        i = m.end()\n",
    "        token = m.group(1)\n",
    "        if token in \"+-/*()\":\n",
    "            L.append(token)\n",
    "        else:\n",
    "            L.append(float(token))\n",
    "    return tuple(L)\n",
    "\n",
    "assert (6.0, '*', '(', 2.0, '+', 3.0, ')', '/', '(', 23.5, '+', '(', 200.0, '+', 100.0, '-', 100.0, ')', ')') == \\\n",
    "      parse_expression(\" 6*(2.0+3.) / (23.5+(.2E3  + 0.1e+3-10000E-2 ))  \")"
   ]
  },
  {
   "attachments": {},
   "cell_type": "markdown",
   "metadata": {},
   "source": [
    "For example:\n",
    "~~~~Python\n",
    "\" 6*(2.0+3.) / (23.5+(.2E3  + 0.1e+3-10000E-2 ))  \"\n",
    "~~~~ \n",
    "returns the following tuple\n",
    "~~~~Python\n",
    "(6.0, '*', '(', 2.0, '+', 3.0, ')', '/', '(', 23.5, '+', '(', 200.0, '+', 100.0, '-', 100.0, ')', ')')\n",
    "~~~~\n",
    "Note that all numbers are float and all the operators are characters (i.e. strings with length one)"
   ]
  },
  {
   "cell_type": "code",
   "execution_count": 2,
   "metadata": {},
   "outputs": [
    {
     "data": {
      "text/plain": [
       "(23.0, '*', '(', 4.0, '-', 5.0, ')', '/', 23.5, '+', 50.0)"
      ]
     },
     "execution_count": 2,
     "metadata": {},
     "output_type": "execute_result"
    }
   ],
   "source": [
    "# you can try your own expressions here\n",
    "parse_expression(\" 23*(4.0-5.) / 23.5+.5E2  \")"
   ]
  },
  {
   "cell_type": "code",
   "execution_count": 3,
   "metadata": {},
   "outputs": [
    {
     "data": {
      "text/plain": [
       "(21.0, '/', '(', 1.0, '+', 1.0, ')', '*', 19.9, '-', 30.0)"
      ]
     },
     "execution_count": 3,
     "metadata": {},
     "output_type": "execute_result"
    }
   ],
   "source": [
    "parse_expression(\" 21/(1.0+1.) * 19.9-.3E2  \")"
   ]
  },
  {
   "attachments": {},
   "cell_type": "markdown",
   "metadata": {},
   "source": [
    "## Q01 (ctypes module allowed) (30 pts)\n",
    "Create an efficient array based stack called **FloatArrayStack** with the following features:\n",
    "- Implements Stack ADT given in the lectures (push, pop, top, is_empty, len)\n",
    "- Uses **ctypes** module's **c_double** type to construct underlying array\n",
    "- Stores floating point numbers only (when int value is pushed, it is stored as float)\n",
    "- Has a **capacity** given as a parameter on creation.\n",
    "- If number of items contained exceeds capacity, push method should raise an Exception indicating that the *Stack is Full*, so the underlying array will not be resized"
   ]
  },
  {
   "cell_type": "code",
   "execution_count": 4,
   "metadata": {},
   "outputs": [],
   "source": [
    "from ctypes import c_double\n",
    "\n",
    "class FloatArrayStack:\n",
    "    \"\"\"LIFO Stack implementation using a ctypes c_double as underlying storage.\"\"\"\n",
    "  \n",
    "    def __init__(self, capacity):\n",
    "        \"\"\"Create an empty stack.\"\"\"\n",
    "        self._data = (c_double * capacity)() # nonpublic ctypes array instance\n",
    "        self._count = 0\n",
    "\n",
    "    def __len__(self):\n",
    "        \"\"\"Return the number of elements in the stack.\"\"\"\n",
    "        return self._count\n",
    "\n",
    "    def is_empty(self):\n",
    "        \"\"\"Return True if the stack is empty.\"\"\"\n",
    "        return self._count == 0\n",
    "\n",
    "    def push(self, e):\n",
    "        \"\"\"Add element e at the top of the stack.\n",
    "        Raise exception if the stack is full.\n",
    "        \"\"\"\n",
    "        # ============ YOUR CODE HERE ============\n",
    "        if self._count == len(self._data):\n",
    "            raise Exception(\"Stack is Full\")\n",
    "        self._data[self._count] = float(e)\n",
    "        self._count += 1\n",
    "        # ========================================\n",
    "\n",
    "    def top(self):\n",
    "        \"\"\"Return (but do not remove) the element at the top of the stack.\n",
    "        Raise exception if the stack is empty.\n",
    "        \"\"\"\n",
    "        # ============ YOUR CODE HERE ============\n",
    "        if self.is_empty():\n",
    "            raise Exception(\"Stack is Empty\")\n",
    "        return self._data[self._count - 1]\n",
    "        # ========================================\n",
    "\n",
    "    def pop(self):\n",
    "        \"\"\"Remove and return the element from the top of the stack (i.e., LIFO).\n",
    "        Raise exception if the stack is empty.\n",
    "        \"\"\"\n",
    "        # ============ YOUR CODE HERE ============\n",
    "        if self.is_empty():\n",
    "            raise Exception(\"Stack is Empty\")\n",
    "        self._count -= 1\n",
    "        return self._data[self._count]\n",
    "        # ========================================\n",
    "\n",
    "#You can use the following code to test your class\n",
    "fs = FloatArrayStack(10)\n",
    "fs.push(1.0)\n",
    "fs.push(3)\n",
    "fs.push(.4)\n",
    "assert 3 == len(fs)\n",
    "assert 0.4 == fs.pop()\n",
    "assert 3.0 == fs.top()\n",
    "assert 3.0 == fs.pop()\n",
    "assert 1.0 == fs.pop()\n",
    "assert 0 == len(fs)\n"
   ]
  },
  {
   "attachments": {},
   "cell_type": "markdown",
   "metadata": {},
   "source": [
    "## Q02 (30 pts)\n",
    "Use the following code of ListStack modified from the code supplied in the textbook. This stack has an additional method called **memsize** that returns the memory allocated for the underlying list object. You will use this information to analyze list class."
   ]
  },
  {
   "cell_type": "code",
   "execution_count": 5,
   "metadata": {},
   "outputs": [
    {
     "name": "stdout",
     "output_type": "stream",
     "text": [
      "( 0 : 32 ),( 4 : 32 ),( 8 : 64 ),( 16 : 64 ),( 24 : 64 ),( 32 : 64 ),( 40 : 96 ),( 52 : 96 ),( 64 : 96 ),( 76 : 128 ),( 92 : 128 ),( 108 : 160 ),( 128 : 160 ),( 148 : 192 ),( 172 : 224 ),( 200 : 256 ),( 232 : 288 ),( 268 : 320 ),( 308 : 352 ),( 352 : 384 ),( 400 : 448 ),( 456 : 512 ),( 520 : 576 ),( 592 : 640 ),( 672 : 704 ),( 760 : 800 ),( 860 : 896 ),( 972 : 1024 ),\n"
     ]
    }
   ],
   "source": [
    "import sys\n",
    "\n",
    "class ListStack:\n",
    "\n",
    "    def __init__(self):\n",
    "        self._data = []                                            \n",
    "\n",
    "    def __len__(self):\n",
    "        return len(self._data)\n",
    "\n",
    "    def is_empty(self):\n",
    "        return len(self._data) == 0\n",
    "\n",
    "    def push(self, e):\n",
    "        self._data.append(e)                                    \n",
    "\n",
    "    def top(self):\n",
    "        if self.is_empty():\n",
    "            raise Exception('Stack is empty')\n",
    "        return self._data[-1]                                 \n",
    "\n",
    "    def pop(self):\n",
    "        if self.is_empty():\n",
    "            raise Exception('Stack is empty')\n",
    "        return self._data.pop()     \n",
    "    \n",
    "    def memsize(self):\n",
    "        return sys.getsizeof(self._data)\n",
    "\n",
    "# create a list stack\n",
    "ls = ListStack()\n",
    "indices = []\n",
    "deltas = []\n",
    "lastsize = ls.memsize()\n",
    "# add thousand values one by one and print when used internal mem changed\n",
    "for i in range(1000):\n",
    "    ls.push(0)\n",
    "    size = ls.memsize()\n",
    "    delta = size - lastsize\n",
    "    lastsize = size\n",
    "    if delta != 0:\n",
    "        print('(', i, ':', delta, ')', end=\",\") #print index and delta when memsize is changed\n",
    "        indices.append(i)\n",
    "        deltas.append(delta)\n",
    "print()"
   ]
  },
  {
   "cell_type": "code",
   "execution_count": 6,
   "metadata": {},
   "outputs": [
    {
     "data": {
      "text/plain": [
       "<matplotlib.collections.PathCollection at 0x1763ff83450>"
      ]
     },
     "execution_count": 6,
     "metadata": {},
     "output_type": "execute_result"
    },
    {
     "data": {
      "image/png": "[encoded data removed]",
      "text/plain": [
       "<Figure size 640x480 with 1 Axes>"
      ]
     },
     "metadata": {},
     "output_type": "display_data"
    }
   ],
   "source": [
    "%matplotlib inline\n",
    "import matplotlib.pyplot as plt\n",
    "plt.scatter(indices, deltas)\n",
    "#plt.plot(indices, deltas, '-ob')"
   ]
  },
  {
   "attachments": {},
   "cell_type": "markdown",
   "metadata": {},
   "source": [
    "The graph above shows the points when the internally used memory size is changed.\n",
    "Examine the code and the graph above, and answer the following questions about the **list** class:"
   ]
  },
  {
   "attachments": {},
   "cell_type": "markdown",
   "metadata": {},
   "source": [
    "a) What is the space complexity of this class?"
   ]
  },
  {
   "attachments": {},
   "cell_type": "markdown",
   "metadata": {},
   "source": [
    "============ YOUR ANSWER HERE ============\n",
    "\n",
    "The space complexity of the ListStack class is O(n), where n is the number of elements in the list. This is because the underlying data structure is a dynamic array that may need to be resized as elements are added or removed.\n",
    "\n",
    "The ListStack class utilizes a Python list (self._data) to store elements. As elements are added to the stack, the list may need to be resized to accommodate the growing number of elements. Resizing involves creating a new list with double the capacity of the current list and copying elements from the old list to the new one. The space complexity is affected by the number of resizing operations, making it O(n) overall.\n",
    "\n",
    "==========================================\n"
   ]
  },
  {
   "attachments": {},
   "cell_type": "markdown",
   "metadata": {},
   "source": [
    "b) What kind of data structure implementation is being used by the list class?"
   ]
  },
  {
   "attachments": {},
   "cell_type": "markdown",
   "metadata": {},
   "source": [
    "============ YOUR ANSWER HERE ============\n",
    "\n",
    "The ListStack class uses a dynamic array (resizable array) as its underlying data structure.\n",
    "\n",
    "A dynamic array is an array that can dynamically resize itself to accommodate a variable number of elements. Python lists are implemented as dynamic arrays. They automatically handle resizing operations when the number of elements exceeds the current capacity.\n",
    "\n",
    "==========================================\n"
   ]
  },
  {
   "attachments": {},
   "cell_type": "markdown",
   "metadata": {},
   "source": [
    "c) Comment on the resizing frequency of the allocated memory, and also on the memory growing strategy used by this class?"
   ]
  },
  {
   "attachments": {},
   "cell_type": "markdown",
   "metadata": {},
   "source": [
    "============ YOUR ANSWER HERE ============\n",
    "\n",
    "The resizing frequency of the list class is crucial for its performance. The list class typically doubles its capacity when resizing is necessary. This strategy reduces the frequency of resizing operations and improves efficiency.\n",
    "\n",
    "The list class employs a strategy where it doubles its capacity (increases by a factor of 2) when resizing. This strategy is efficient because it amortizes the cost of resizing over a sequence of operations. Doubling the capacity helps ensure that the resizing operation is not triggered too frequently, as it provides room for future additions before the next resizing is needed.\n",
    "\n",
    "==========================================\n"
   ]
  },
  {
   "attachments": {},
   "cell_type": "markdown",
   "metadata": {},
   "source": [
    "## Q03 (40 pts)\n",
    "Write a function that evaluates an arithmetic expression with the following requirements:\n",
    "- **Input** is the tuple of parsed tokens provided as the output of `parse_expression` function, i.e. a list of characters (for operators) and float values.\n",
    "- **Output** is the result of the evaluation of the expression, i.e. a floating point number\n",
    "- Function should raise exception when an invalid expression is given\n",
    "- **Use double stack implementation based expression evaluation algorithm that was provided in the lecture slides.**\n",
    "    - Use **FloatArrayStack** (with capacity of 20) for numbers (operands)\n",
    "    - Use **ListStack** for operators\n",
    "- You will **improve** the algorithm given in the textbook so that it supports **parentheses** as well\n",
    "- Allowed operators are defined in function `parse_expression`, their precedences shall be computed using **pred** function provided below, i.e. precedences are:\n",
    "    - 1 for '(' and ')'\n",
    "    - 2 for '+' and '-'\n",
    "    - 3 for '*' and '/'\n",
    "- Here is how you improve the algorithm when parentheses are provided in the input:\n",
    "    - If the operator is '(', push it to the operator stack\n",
    "    - If the operator is ')', perform **doOp()** opreation until '(' is popped from the stack\n",
    "    - Note that '(' has lower precedence than all other arithmetic operators and ')' is never pushed to the stack\n",
    "- You may define multiple functions or global variables\n",
    "- There is a built-in python function called **eval()**, which evaluates an expression, it is forbidden to use that function in your solution, however you can use it to test your code.\n",
    "- You will get partial points anyway even if you don't implement parentheses, it is recommended that you first implement the algorithm given in the slides, then improve it by adding parenthesis support."
   ]
  },
  {
   "cell_type": "code",
   "execution_count": 7,
   "metadata": {},
   "outputs": [],
   "source": [
    "OPERATORS = \"()+-*/\"\n",
    "\n",
    "def prec(op):\n",
    "    return 1 + OPERATORS.index(op) // 2\n",
    "\n",
    "def eval_tokens(tokens):\n",
    "    floats = FloatArrayStack(20)\n",
    "    ops = ListStack()\n",
    "    # ============ YOUR CODE HERE ============\n",
    "    def do_op():\n",
    "        operator = ops.pop()\n",
    "        if operator == '(':\n",
    "            raise ValueError(\"Mismatched parentheses\")\n",
    "        b = floats.pop()\n",
    "        a = floats.pop()\n",
    "        if operator == '+':\n",
    "            result = a + b\n",
    "        elif operator == '-':\n",
    "            result = a - b\n",
    "        elif operator == '*':\n",
    "            result = a * b\n",
    "        elif operator == '/':\n",
    "            result = a / b\n",
    "        floats.push(result)\n",
    "\n",
    "    for token in tokens:\n",
    "        if isinstance(token, (float, int)):\n",
    "            floats.push(float(token))\n",
    "        elif token == '(':\n",
    "            ops.push(token)\n",
    "        elif token == ')':\n",
    "            while ops.top() != '(':\n",
    "                do_op()\n",
    "            ops.pop()  # Pop '('\n",
    "        elif token in OPERATORS:\n",
    "            while not ops.is_empty() and prec(ops.top()) >= prec(token):\n",
    "                do_op()\n",
    "            ops.push(token)\n",
    "\n",
    "    while not ops.is_empty():\n",
    "        do_op()\n",
    "\n",
    "    return floats.top()\n",
    "    # ========================================\n",
    "\n",
    "def eval_expression(expression):\n",
    "    tokens = parse_expression(expression)\n",
    "    return eval_tokens(tokens)\n",
    "\n",
    "#You can use the following code to test you code\n",
    "assert 3.0 == eval_tokens((3.0,))\n",
    "assert 8.0 == eval_tokens((3.0, '+', 5.0))\n",
    "assert 13.0 == eval_tokens((3.0, '+', 5.0, '*', 2.0))\n",
    "assert 16.0 == eval_tokens(('(', 3.0, '+', 5.0, ')', '*', 2.0))\n",
    "#You can also use the given parse_expression function\n",
    "assert 0.1342281879194631 == eval_expression(\" 6*(2.0+3.) / (23.5+(.2E3  + 0.1e+3-10000E-2 ))  \")\n"
   ]
  }
 ],
 "metadata": {
  "kernelspec": {
   "display_name": "Python 3.10.6 64-bit",
   "language": "python",
   "name": "python3"
  },
  "language_info": {
   "codemirror_mode": {
    "name": "ipython",
    "version": 3
   },
   "file_extension": ".py",
   "mimetype": "text/x-python",
   "name": "python",
   "nbconvert_exporter": "python",
   "pygments_lexer": "ipython3",
   "version": "3.11.7"
  },
  "vscode": {
   "interpreter": {
    "hash": "6a48581e28d45680af6ef7ae6138d429f6e20aecedaea2d4b58ab16969b43f7e"
   }
  }
 },
 "nbformat": 4,
 "nbformat_minor": 2
}
